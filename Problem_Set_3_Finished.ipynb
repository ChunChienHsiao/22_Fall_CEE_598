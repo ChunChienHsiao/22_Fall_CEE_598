{
 "cells": [
  {
   "cell_type": "markdown",
   "id": "802aadcb",
   "metadata": {},
   "source": [
    "# Problem 1"
   ]
  },
  {
   "cell_type": "markdown",
   "id": "b45c6e10",
   "metadata": {},
   "source": [
    "## (1) Marginal-cost pricing toll patteren\n",
    "\n",
    "The link performance function:\n",
    "\n",
    "$t_{12} = 60 + x_{12}$\n",
    "\n",
    "$t_{13} = 10 + 10x_{13}$\n",
    "\n",
    "$t_{24} = 10 + 10x_{24}$\n",
    "\n",
    "$t_{34} = 60 + x_{34}$\n",
    "\n",
    "$t_{32} = 10 + x_{32}$\n",
    "\n",
    "Origin: Node 1; Destination: Node 4\n",
    "\n",
    "Total Traffic Flow: 6 Vehicles\n",
    "\n",
    "Possible Paths:\n",
    "\n",
    "1. Node 1 $\\rightarrow$ Node 2 $\\rightarrow$ Node 4\n",
    "\n",
    "2. Node 1 $\\rightarrow$ Node 3 $\\rightarrow$ Node 4\n",
    "\n",
    "3. Node 1 $\\rightarrow$ Node 3 $\\rightarrow$ Node 2 $\\rightarrow$ Node 4\n",
    "\n",
    "The goal of System Optimum (SO) is to minimize the total travel time in the network, so we can derive the following formulation:\n",
    "\n",
    "$Z = min\\space\\Sigma_{i,j}\\space x_{ij}t_{ij} = min \\space x_{12}(60+x_{12})+x_{13}(10+10x_{13})+x_{24}(10+10x_{24})+x_{32}(10+x_{32})+x_{34}(60+x_{34})$\n",
    "\n",
    "The constraints are the traffic flow conservation on all nodes and postive traffice flow.\n",
    "\n",
    "$s.t.$\n",
    "\n",
    "$x_{12}+x_{13}-6 = 0$\n",
    "\n",
    "$x_{24}-x_{12}-x_{32} = 0$\n",
    "\n",
    "$x_{32}+x_{34}-x_{13} = 0$\n",
    "\n",
    "$6-x_{24}-x_{34} = 0$\n",
    "\n",
    "$x_{ij} \\geq 0 \\space \\forall i,j$"
   ]
  },
  {
   "cell_type": "code",
   "execution_count": 1,
   "id": "c5e4a455",
   "metadata": {},
   "outputs": [],
   "source": [
    "import numpy as np\n",
    "from scipy import optimize\n",
    "from gurobipy import *"
   ]
  },
  {
   "cell_type": "code",
   "execution_count": 2,
   "id": "173e7e77",
   "metadata": {},
   "outputs": [
    {
     "name": "stdout",
     "output_type": "stream",
     "text": [
      "Restricted license - for non-production use only - expires 2023-10-25\n",
      "Gurobi Optimizer version 9.5.2 build v9.5.2rc0 (mac64[rosetta2])\n",
      "Thread count: 8 physical cores, 8 logical processors, using up to 8 threads\n",
      "Optimize a model with 4 rows, 5 columns and 10 nonzeros\n",
      "Model fingerprint: 0x71bbae03\n",
      "Model has 5 quadratic objective terms\n",
      "Coefficient statistics:\n",
      "  Matrix range     [1e+00, 1e+00]\n",
      "  Objective range  [1e+01, 6e+01]\n",
      "  QObjective range [2e+00, 2e+01]\n",
      "  Bounds range     [0e+00, 0e+00]\n",
      "  RHS range        [6e+00, 6e+00]\n",
      "Presolve removed 1 rows and 0 columns\n",
      "Presolve time: 0.00s\n",
      "Presolved: 3 rows, 5 columns, 7 nonzeros\n",
      "Presolved model has 5 quadratic objective terms\n",
      "Ordering time: 0.00s\n",
      "\n",
      "Barrier statistics:\n",
      " AA' NZ     : 2.000e+00\n",
      " Factor NZ  : 6.000e+00\n",
      " Factor Ops : 1.400e+01 (less than 1 second per iteration)\n",
      " Threads    : 1\n",
      "\n",
      "                  Objective                Residual\n",
      "Iter       Primal          Dual         Primal    Dual     Compl     Time\n",
      "   0   1.13985542e+06 -1.07174595e+06  1.75e+03 0.00e+00  1.01e+06     0s\n",
      "   1   9.49503644e+04 -1.15486561e+05  1.54e+02 0.00e+00  1.12e+05     0s\n",
      "   2   6.21201247e+02 -4.09599982e+04  1.54e-04 0.00e+00  8.32e+03     0s\n",
      "   3   6.21106828e+02  5.73037294e+02  1.45e-08 0.00e+00  9.61e+00     0s\n",
      "   4   6.18114013e+02  6.17874283e+02  1.42e-14 0.00e+00  4.79e-02     0s\n",
      "   5   6.18000114e+02  6.17999873e+02  0.00e+00 2.19e-16  4.80e-05     0s\n",
      "   6   6.18000000e+02  6.18000000e+02  0.00e+00 1.07e-15  4.81e-08     0s\n",
      "   7   6.18000000e+02  6.18000000e+02  8.88e-16 6.66e-15  4.81e-11     0s\n",
      "\n",
      "Barrier solved model in 7 iterations and 0.01 seconds (0.00 work units)\n",
      "Optimal objective 6.18000000e+02\n",
      "\n"
     ]
    }
   ],
   "source": [
    "# create an optimization model called Marginal_Travel_Time\n",
    "model_1_1 = Model('Marginal_Travel_Time')\n",
    "\n",
    "# add variables into this model\n",
    "x = {}\n",
    "x[1,2] = model_1_1.addVar(vtype=GRB.CONTINUOUS)\n",
    "x[1,3] = model_1_1.addVar(vtype=GRB.CONTINUOUS)\n",
    "x[2,4] = model_1_1.addVar(vtype=GRB.CONTINUOUS)\n",
    "x[3,2] = model_1_1.addVar(vtype=GRB.CONTINUOUS)\n",
    "x[3,4] = model_1_1.addVar(vtype=GRB.CONTINUOUS)\n",
    "\n",
    "# set the objective function in this model\n",
    "obj = x[1,2]*(60+x[1,2]) + x[1,3]*(10+10*x[1,3]) + x[2,4]*(10+10*x[2,4]) + x[3,2]*(10+x[3,2]) + x[3,4]*(60+x[3,4])\n",
    "model_1_1.setObjective(obj)\n",
    "\n",
    "# set the constraints in this model\n",
    "model_1_1.addConstr(x[1,2]+x[1,3]-6==0)\n",
    "model_1_1.addConstr(x[2,4]-x[1,2]-x[3,2]==0)\n",
    "model_1_1.addConstr(x[3,2]+x[3,4]-x[1,3]==0)\n",
    "model_1_1.addConstr(6-x[2,4]-x[3,4]==0)\n",
    "\n",
    "model_1_1.optimize()\n",
    "model_1_1.write('Marginal_Travel_Time.lp')"
   ]
  },
  {
   "cell_type": "code",
   "execution_count": 3,
   "id": "023955d9",
   "metadata": {},
   "outputs": [
    {
     "name": "stdout",
     "output_type": "stream",
     "text": [
      "Traffic flow from Node 1 to Node 2 is: 3.00\n",
      "Traffic flow from Node 1 to Node 3 is: 3.00\n",
      "Traffic flow from Node 2 to Node 4 is: 3.00\n",
      "Traffic flow from Node 3 to Node 2 is: 0.00\n",
      "Traffic flow from Node 3 to Node 4 is: 3.00\n"
     ]
    }
   ],
   "source": [
    "sol_list = []\n",
    "\n",
    "print('Traffic flow from Node 1 to Node 2 is: {:.2f}'.format(x[1,2].X))\n",
    "sol_list.append(x[1,2].X)\n",
    "print('Traffic flow from Node 1 to Node 3 is: {:.2f}'.format(x[1,3].X))\n",
    "sol_list.append(x[1,3].X)\n",
    "print('Traffic flow from Node 2 to Node 4 is: {:.2f}'.format(x[2,4].X))\n",
    "sol_list.append(x[2,4].X)\n",
    "print('Traffic flow from Node 3 to Node 2 is: {:.2f}'.format(x[3,2].X))\n",
    "sol_list.append(x[3,2].X)\n",
    "print('Traffic flow from Node 3 to Node 4 is: {:.2f}'.format(x[3,4].X))\n",
    "sol_list.append(x[3,4].X)\n",
    "\n",
    "sol_list = np.asarray(sol_list)"
   ]
  },
  {
   "cell_type": "code",
   "execution_count": 4,
   "id": "bfb2b60b",
   "metadata": {},
   "outputs": [
    {
     "name": "stdout",
     "output_type": "stream",
     "text": [
      "Marginal cost from Node 1 to Node 2 is: 3.00\n",
      "Marginal cost from Node 1 to Node 3 is: 30.00\n",
      "Marginal cost from Node 2 to Node 4 is: 30.00\n",
      "Marginal cost from Node 3 to Node 2 is: 0.00\n",
      "Marginal cost from Node 3 to Node 4 is: 3.00\n"
     ]
    }
   ],
   "source": [
    "dev_list = np.array([1,10,10,1,1])\n",
    "marginal_cost = sol_list*dev_list\n",
    "\n",
    "print('Marginal cost from Node 1 to Node 2 is: {:.2f}'.format(marginal_cost[0]))\n",
    "print('Marginal cost from Node 1 to Node 3 is: {:.2f}'.format(marginal_cost[1]))\n",
    "print('Marginal cost from Node 2 to Node 4 is: {:.2f}'.format(marginal_cost[2]))\n",
    "print('Marginal cost from Node 3 to Node 2 is: {:.2f}'.format(marginal_cost[3]))\n",
    "print('Marginal cost from Node 3 to Node 4 is: {:.2f}'.format(marginal_cost[4]))"
   ]
  },
  {
   "cell_type": "markdown",
   "id": "34b4dcc1",
   "metadata": {},
   "source": [
    "## (2) UE to SO\n",
    "\n",
    "According to Hearn and Ramana, 1998, the model that can convert User Equilibrium (UE) to System Optimum (SO) should be formulated as the following:\n",
    "\n",
    "$Z = min \\space \\Sigma_{i,j} \\space x_{ij}^{SO} \\tau_{ij}$\n",
    "\n",
    "$s.t.$\n",
    "\n",
    "$\\Sigma_{a} \\space x_{a}^{SO}(t_{a}(x_{a}^{SO}+\\tau_{a})) = \\Sigma_{rs} \\space q_{rs}\\lambda^{rs}, \\space \\space \\forall r,s$\n",
    "\n",
    "$\\Sigma_{a} \\space \\delta_{ak}^{rs}(t_{a}(x_{a}^{SO}+\\tau_{a})) \\geq \\lambda_{rs}, \\space\\space \\forall k,r,s$\n",
    "\n",
    "$\\tau_a \\geq 0, \\space\\space \\forall a$\n",
    "\n",
    "Therefore, we can formulate the model numerically as the following format:\n",
    "\n",
    "$min \\space Z = 3(\\tau_{12}+\\tau_{13}+\\tau_{24}+\\tau_{34})$\n",
    "\n",
    "$s.t.$\n",
    "\n",
    "$618 + 3(\\tau_{12}+\\tau_{13}+\\tau_{24}+\\tau_{34}) - 6\\lambda = 0$\n",
    "\n",
    "$103 + \\tau_{12} + \\tau_{24} - \\lambda \\geq 0$\n",
    "\n",
    "$103 + \\tau_{13} + \\tau_{34} - \\lambda \\geq 0$\n",
    "\n",
    "$90 + \\tau_{13} + \\tau_{24} + \\tau_{32} - \\lambda \\geq 0$\n",
    "\n",
    "$\\tau_{12}, \\tau_{13}, \\tau_{24}, \\tau_{32}, \\tau_{34} \\geq 0$"
   ]
  },
  {
   "cell_type": "code",
   "execution_count": 5,
   "id": "6add6560",
   "metadata": {},
   "outputs": [
    {
     "name": "stdout",
     "output_type": "stream",
     "text": [
      "Gurobi Optimizer version 9.5.2 build v9.5.2rc0 (mac64[rosetta2])\n",
      "Thread count: 8 physical cores, 8 logical processors, using up to 8 threads\n",
      "Optimize a model with 4 rows, 6 columns and 14 nonzeros\n",
      "Model fingerprint: 0x07558e9a\n",
      "Coefficient statistics:\n",
      "  Matrix range     [1e+00, 6e+00]\n",
      "  Objective range  [3e+00, 3e+00]\n",
      "  Bounds range     [0e+00, 0e+00]\n",
      "  RHS range        [9e+01, 6e+02]\n",
      "Presolve removed 4 rows and 6 columns\n",
      "Presolve time: 0.00s\n",
      "Presolve: All rows and columns removed\n",
      "Iteration    Objective       Primal Inf.    Dual Inf.      Time\n",
      "       0    0.0000000e+00   0.000000e+00   0.000000e+00      0s\n",
      "\n",
      "Solved in 0 iterations and 0.00 seconds (0.00 work units)\n",
      "Optimal objective  0.000000000e+00\n"
     ]
    }
   ],
   "source": [
    "# create an optimization model called UE_to_SO\n",
    "model_1_2 = Model('UE_to_SO')\n",
    "\n",
    "# add variables into this model\n",
    "tau = {}\n",
    "tau[1,2] = model_1_2.addVar(vtype=GRB.CONTINUOUS)\n",
    "tau[1,3] = model_1_2.addVar(vtype=GRB.CONTINUOUS)\n",
    "tau[2,4] = model_1_2.addVar(vtype=GRB.CONTINUOUS)\n",
    "tau[3,2] = model_1_2.addVar(vtype=GRB.CONTINUOUS)\n",
    "tau[3,4] = model_1_2.addVar(vtype=GRB.CONTINUOUS)\n",
    "lamb = model_1_2.addVar(vtype=GRB.CONTINUOUS)\n",
    "\n",
    "# set the objective function in this model\n",
    "obj = 3*(tau[1,2]+tau[1,3]+tau[2,4]+tau[3,4])\n",
    "model_1_2.setObjective(obj)\n",
    "\n",
    "# set the constraints in this model\n",
    "model_1_2.addConstr(618+3*(tau[1,2]+tau[1,3]+tau[2,4]+tau[3,4])-6*lamb==0)\n",
    "model_1_2.addConstr(103+tau[1,2]+tau[2,4]-lamb >= 0)\n",
    "model_1_2.addConstr(103+tau[1,3]+tau[3,4] >= 0)\n",
    "model_1_2.addConstr(90+tau[1,3]+tau[2,4]+tau[3,2]-lamb >= 0)\n",
    "\n",
    "model_1_2.optimize()\n",
    "model_1_2.write('UE_to_SO.lp')"
   ]
  },
  {
   "cell_type": "code",
   "execution_count": 6,
   "id": "317459d5",
   "metadata": {},
   "outputs": [
    {
     "name": "stdout",
     "output_type": "stream",
     "text": [
      "Toll on the link from Node 1 to Node 2 is: 0.00\n",
      "Toll on the link from Node 1 to Node 3 is: 0.00\n",
      "Toll on the link from Node 2 to Node 4 is: 0.00\n",
      "Toll on the link from Node 3 to Node 2 is: 13.00\n",
      "Toll on the link from Node 3 to Node 4 is: 0.00\n",
      "The balanced travel time on the OD pair is: 103.00\n"
     ]
    }
   ],
   "source": [
    "print('Toll on the link from Node 1 to Node 2 is: {:.2f}'.format(tau[1,2].X))\n",
    "print('Toll on the link from Node 1 to Node 3 is: {:.2f}'.format(tau[1,3].X))\n",
    "print('Toll on the link from Node 2 to Node 4 is: {:.2f}'.format(tau[2,4].X))\n",
    "print('Toll on the link from Node 3 to Node 2 is: {:.2f}'.format(tau[3,2].X))\n",
    "print('Toll on the link from Node 3 to Node 4 is: {:.2f}'.format(tau[3,4].X))\n",
    "print('The balanced travel time on the OD pair is: {:.2f}'.format(lamb.X))"
   ]
  },
  {
   "cell_type": "markdown",
   "id": "de6df10f",
   "metadata": {},
   "source": [
    "# Problem 2\n",
    "\n",
    "$t_1(x_1) = 2+0.01x_1^4$\n",
    "\n",
    "$t_2(x_2) = 1+0.02x_2^4$\n",
    "\n",
    "$\\frac{x_1}{x_1+x_2} = \\frac{1}{1+e^(\\theta(t_1-t_2))}, \\space\\space \\theta=0.5$\n",
    "\n",
    "$x_1+x_2=6$"
   ]
  },
  {
   "cell_type": "markdown",
   "id": "abeaa92b",
   "metadata": {},
   "source": [
    "## (1) Formulate the stochastic UE minimization problem\n",
    "\n",
    "Based on Fisk's logit-based formulation, the formulation should be:\n",
    "\n",
    "$min \\space Z = \\Sigma_{a \\in A} \\int_{0}^{x_a} t(\\tilde{\\omega})\\, d\\tilde{\\omega} + \\frac{1}{\\theta} \\Sigma_{rs} \\Sigma_{k} \\space f_k^{rs}lnf_k^{rs}$\n",
    "\n",
    "$s.t.$\n",
    "\n",
    "$\\Sigma_{k} f_k^{rs} = q_{rs}, \\space\\space \\forall r,s$\n",
    "\n",
    "$f_k^{rs} \\geq 0, \\space\\space \\forall k,r,s$\n",
    "\n",
    "$x_a = \\Sigma_{rs} \\Sigma_{k} f_k^{rs}\\delta_{a,k}^{rs}, \\space a \\in A$\n",
    "\n",
    "Therefore, for our question, we can formulate the optimization model as the following:\n",
    "\n",
    "$min \\space Z = 2x_1 + \\frac{x_1^5}{500} + x_2 + \\frac{x_2^5}{250} + 2(x_1lnx_1 + x_2lnx_2)$\n",
    "\n",
    "$s.t.$\n",
    "\n",
    "$x_1 + x_2 = 6$\n",
    "\n",
    "$x_1, x_2 \\geq 0$"
   ]
  },
  {
   "cell_type": "markdown",
   "id": "b8a4a2c9",
   "metadata": {},
   "source": [
    "## (2) Successive Average Method\n",
    "\n",
    "The structure of successive average method\n",
    "\n",
    "0. Initialization. Perform a stochastic network loading based on $t_a = t_a(0), \\space \\forall a$. This yields $x^1$. Set counter $n:=1$.\n",
    "\n",
    "1. Update. Set $t_a^n = t_a(x_a^n), \\space \\forall a$.\n",
    "\n",
    "2. Direct finding. Perform a stochastic network loading based on $t_a^n, \\space \\forall a$. This yields flows $y^n$.\n",
    "\n",
    "3. Move. Set $x^{n+1} = x^n +\\frac{1}{n}(y^n-x^n)$\n",
    "\n",
    "4. Convergence test. If convergence is attained, stop; otherwise, $n:=n+1$, and to to Step 1."
   ]
  },
  {
   "cell_type": "code",
   "execution_count": 7,
   "id": "dbec2818",
   "metadata": {},
   "outputs": [],
   "source": [
    "def travel_time(x):\n",
    "    x1, x2 = x[0], x[1]\n",
    "    t1 = 2+0.01*x1**4\n",
    "    t2 = 1+0.02*x2**4\n",
    "    return np.array([t1,t2])\n",
    "\n",
    "def mode_choice(t):\n",
    "    t1, t2 = t[0], t[1]\n",
    "    mode_1 = 6/(1+np.exp(0.5*(t1-t2)))\n",
    "    mode_2 = 6 - mode_1\n",
    "    return np.array([mode_1, mode_2])\n",
    "\n",
    "def initialization():\n",
    "    time = travel_time(np.zeros(2))\n",
    "    flow = mode_choice(time)\n",
    "    return time, flow\n",
    "\n",
    "def convergence(new_flow, old_flow):\n",
    "    epsilon = 0.001\n",
    "    flow_diff = (new_flow - old_flow)**2\n",
    "    result = np.sqrt(np.sum(flow_diff))/np.sum(old_flow)\n",
    "    if result <= epsilon:\n",
    "        print('The result is converged!')\n",
    "        return True\n",
    "    else:\n",
    "        print('The result is not converged!')\n",
    "        print('Keep going!\\n')\n",
    "        return False\n",
    "\n",
    "def update(old_flow, counter):\n",
    "    print('Iteration ', counter)\n",
    "    print('Original Traffic Flow: ', old_flow)\n",
    "    updated_travel_time = travel_time(old_flow) # return new travel time\n",
    "    print('Updated Travel Time: ', updated_travel_time)\n",
    "    direct_finding = mode_choice(updated_travel_time)\n",
    "    print('Direct Finding: ', direct_finding)\n",
    "    updated_flow = old_flow + 1/counter*(direct_finding-old_flow)\n",
    "    print('Updated Flow: ', updated_flow)\n",
    "    return updated_flow"
   ]
  },
  {
   "cell_type": "code",
   "execution_count": 8,
   "id": "d4a0e06e",
   "metadata": {},
   "outputs": [
    {
     "name": "stdout",
     "output_type": "stream",
     "text": [
      "Iteration  1\n",
      "Original Traffic Flow:  [2.26524401 3.73475599]\n",
      "Updated Travel Time:  [2.26330552 4.89115853]\n",
      "Direct Finding:  [4.72901676 1.27098324]\n",
      "Updated Flow:  [4.72901676 1.27098324]\n",
      "The result is not converged!\n",
      "Keep going!\n",
      "\n",
      "Iteration  2\n",
      "Original Traffic Flow:  [4.72901676 1.27098324]\n",
      "Updated Travel Time:  [7.00130583 1.05219024]\n",
      "Direct Finding:  [0.29153155 5.70846845]\n",
      "Updated Flow:  [2.51027416 3.48972584]\n",
      "The result is not converged!\n",
      "Keep going!\n",
      "\n",
      "Iteration  3\n",
      "Original Traffic Flow:  [2.51027416 3.48972584]\n",
      "Updated Travel Time:  [2.39708604 3.96616451]\n",
      "Direct Finding:  [4.11994558 1.88005442]\n",
      "Updated Flow:  [3.0468313 2.9531687]\n",
      "The result is not converged!\n",
      "Keep going!\n",
      "\n",
      "Iteration  4\n",
      "Original Traffic Flow:  [3.0468313 2.9531687]\n",
      "Updated Travel Time:  [2.86177449 2.52118846]\n",
      "Direct Finding:  [2.745176 3.254824]\n",
      "Updated Flow:  [2.97141748 3.02858252]\n",
      "The result is not converged!\n",
      "Keep going!\n",
      "\n",
      "Iteration  5\n",
      "Original Traffic Flow:  [2.97141748 3.02858252]\n",
      "Updated Travel Time:  [2.77956924 2.68262619]\n",
      "Direct Finding:  [2.92730695 3.07269305]\n",
      "Updated Flow:  [2.96259537 3.03740463]\n",
      "The result is not converged!\n",
      "Keep going!\n",
      "\n",
      "Iteration  6\n",
      "Original Traffic Flow:  [2.96259537 3.03740463]\n",
      "Updated Travel Time:  [2.77035226 2.70231764]\n",
      "Direct Finding:  [2.94897896 3.05102104]\n",
      "Updated Flow:  [2.96032597 3.03967403]\n",
      "The result is converged!\n",
      "\n",
      "\n",
      "After 6 iterations, we get the converged traffic flow.\n",
      "The final traffic flow on both links is 2.96 and 3.04. \n"
     ]
    }
   ],
   "source": [
    "# initialization\n",
    "iteration = True\n",
    "counter = 1\n",
    "old_flow = initialization()[1]\n",
    "\n",
    "# update\n",
    "while(iteration):\n",
    "    new_flow = update(old_flow, counter)\n",
    "    convergeOrNot = convergence(new_flow, old_flow)\n",
    "    if convergeOrNot==False:\n",
    "        old_flow = new_flow\n",
    "        counter += 1\n",
    "    else:\n",
    "        iteration = False\n",
    "        print('\\n')\n",
    "        print('After {:.0f} iterations, we get the converged traffic flow.'.format(counter))\n",
    "        print('The final traffic flow on both links is {:.2f} and {:.2f}. '.format(new_flow[0],new_flow[1]))"
   ]
  },
  {
   "cell_type": "markdown",
   "id": "32b28c88",
   "metadata": {},
   "source": [
    "## (3) Analytical Solution\n",
    "\n",
    "In this problem, we have two variables $(x_1 and x_2)$ and following two equations.\n",
    "\n",
    "$x_1+x_2=6$\n",
    "\n",
    "$\\frac{x_1}{x_1+x_2} = \\frac{1}{1+e^{0.5(1+0.01x_1^4-0.02x_2^4)}}$\n",
    "\n",
    "Therefore, we can reeformulate our problem as the following format and solve it.\n",
    "\n",
    "$x_1 - \\frac{6}{1+e^{0.5[1+0.01x_1^4-0.02(6-x_1)^4]}} = 0$"
   ]
  },
  {
   "cell_type": "code",
   "execution_count": 9,
   "id": "0082201f",
   "metadata": {},
   "outputs": [],
   "source": [
    "power = lambda x: 0.5*(1+0.01*x**4-0.02*(6-x)**4)\n",
    "equa = lambda x: x - 6/(1+np.exp(power(x)))\n",
    "\n",
    "sol = optimize.root_scalar(equa, bracket=[2.5,3.5])\n",
    "sol = np.array([sol.root, 6-sol.root])\n",
    "diff_percentage = (new_flow - sol)/sol*100"
   ]
  },
  {
   "cell_type": "code",
   "execution_count": 10,
   "id": "91685317",
   "metadata": {},
   "outputs": [
    {
     "name": "stdout",
     "output_type": "stream",
     "text": [
      "The iteratively final traffic flow on both links:  [2.96032597 3.03967403]\n",
      "The analytically final traffic flow on both links:  [2.9586629 3.0413371]\n",
      "The error between two solutions on both links is respectively 0.056% and -0.055%.\n"
     ]
    }
   ],
   "source": [
    "print('The iteratively final traffic flow on both links: ', new_flow)\n",
    "print('The analytically final traffic flow on both links: ', sol)\n",
    "print('The error between two solutions on both links is respectively {:.3f}% and {:.3f}%.'.format(diff_percentage[0], diff_percentage[1]))"
   ]
  },
  {
   "cell_type": "markdown",
   "id": "c54ad54b",
   "metadata": {},
   "source": [
    "We can input two results into cost function to check which solution is more precise.\n",
    "\n",
    "$\\hat{c_1} = 2+0.01x_1^4+2ln(\\frac{x_1}{6})$\n",
    "\n",
    "$\\hat{c_2} = 1+0.02x_2^4+2ln(\\frac{x_2}{6})$"
   ]
  },
  {
   "cell_type": "code",
   "execution_count": 11,
   "id": "56af9845",
   "metadata": {},
   "outputs": [],
   "source": [
    "def cost(x):\n",
    "    x1,x2 = x[0],x[1]\n",
    "    c1 = 2+0.01*x1**4+2*np.log(x1/6)\n",
    "    c2 = 1+0.02*x2**4+2*np.log(x2/6)\n",
    "    return np.array([c1,c2])\n",
    "\n",
    "numerical_cost = cost(new_flow)\n",
    "analytical_cost = cost(sol)"
   ]
  },
  {
   "cell_type": "code",
   "execution_count": 12,
   "id": "60a0ad17",
   "metadata": {},
   "outputs": [
    {
     "name": "stdout",
     "output_type": "stream",
     "text": [
      "The numercial cost of both links is:  [1.35507438 1.34739253]\n",
      "The analytical cost of both links is:  [1.35222617 1.35222617]\n"
     ]
    }
   ],
   "source": [
    "print('The numercial cost of both links is: ', numerical_cost)\n",
    "print('The analytical cost of both links is: ', analytical_cost)"
   ]
  },
  {
   "cell_type": "markdown",
   "id": "b22bc7b1",
   "metadata": {},
   "source": [
    "From the above cell, we can infer that the analytical result is better than iterative one since the cost on both links matches each other better. This outcome is not surprising for me because we allow a certain error in iterative method. Although analytical method can bring a precise result to us, it may be difficult to be solved if the network becomes much more complicated. Iterative method may be more applicable when we face a large and complex network."
   ]
  }
 ],
 "metadata": {
  "kernelspec": {
   "display_name": "Python 3 (ipykernel)",
   "language": "python",
   "name": "python3"
  },
  "language_info": {
   "codemirror_mode": {
    "name": "ipython",
    "version": 3
   },
   "file_extension": ".py",
   "mimetype": "text/x-python",
   "name": "python",
   "nbconvert_exporter": "python",
   "pygments_lexer": "ipython3",
   "version": "3.9.12"
  }
 },
 "nbformat": 4,
 "nbformat_minor": 5
}
