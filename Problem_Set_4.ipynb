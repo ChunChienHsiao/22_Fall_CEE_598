{
 "cells": [
  {
   "cell_type": "markdown",
   "id": "a9012114",
   "metadata": {},
   "source": [
    "# Problem Set 4\n",
    "\n",
    "***Chun-Chien Hsiao***\n",
    "\n",
    "***cchsiao2@illinois.edu***"
   ]
  },
  {
   "cell_type": "markdown",
   "id": "063050c2",
   "metadata": {},
   "source": [
    "### Problem 1\n",
    "\n",
    "A network consists of a single O-D pair connected by two links. The data for this network are given as follows:\n",
    "\n",
    "Link 1 Performance: $t_1(x_1)=1+\\frac{1}{2}x_1^2$\n",
    "\n",
    "Link 2 Performance: $t_2(x_2)=3+x_2$\n",
    "\n",
    "Demand: $q = \\frac{5}{u}-1$\n",
    "\n",
    "Flow Conservation: $q = x_1 + x_2$\n",
    "\n",
    "where $t_1$ and $t_2$ are the travel time on link 1 and link 2, respectively, $x_1$ and $x_2$ are the flows on these links, $u$ is the (equilibrium) O-D travel time, and $q$ is the O-D flow."
   ]
  },
  {
   "cell_type": "markdown",
   "id": "7fbf73bf",
   "metadata": {},
   "source": [
    "1. Formulate an equivalent minimization problem for finding the equilibrium flow and demand in the network.\n",
    "    \n",
    "    We can get the following eqations based on the information we have.\n",
    "    \n",
    "    $t_1(x_1) = 1 + \\frac{1}{2} x_1^2 \\Longrightarrow \\int_{0}^{x_1} t_1(\\tilde{\\omega})d\\tilde{\\omega} = x_1 + \\frac{1}{6}x_1^3; \\space \\space \\space t_2(x_2) = 3 + x_2 \\Longrightarrow \\int_{0}^{x_2} t_2(\\tilde{\\omega}) d\\tilde{\\omega} = 3x_2+\\frac{1}{2}x_2^2$\n",
    "    \n",
    "    $q = \\frac{5}{u}-1 \\Longrightarrow u = \\frac{5}{q+1} \\Longrightarrow \\int_{0}^{q} u(\\tilde{\\omega})d\\tilde{\\omega} = 5ln(q+1)$, where $q = x_1 + x_2$\n",
    "    \n",
    "    **User Equlibrium with Elastic Demand (Beckmann et al., 1956)**\n",
    "    \n",
    "    $min \\space \\Sigma_a \\int_{0}^{x_a} t_a(\\tilde{\\omega})d\\tilde{\\omega} - \\Sigma_{rs} \\int_{0}^{q_{rs}}D_{rs}^{-1}(\\tilde{\\omega})d\\tilde{\\omega}$\n",
    "    \n",
    "    $s.t.$\n",
    "    \n",
    "    $\\Sigma_{k} f_k^{rs}=q_{rs}, \\forall r,s$\n",
    "    \n",
    "    $f_k^{rs}\\geq 0, \\forall k,r,s$\n",
    "    \n",
    "    $q_{rs} \\geq 0, \\forall r,s$\n",
    "    \n",
    "    $x_a = \\Sigma_{w\\in W} \\Sigma_{r\\in R_w} f_r^w \\delta_{ar}^w, a\\in A$\n",
    "    \n",
    "    We can formulate our problem based on the above equilibrium.\n",
    "    \n",
    "    $min \\space Z = x_1 + \\frac{1}{6}x_1^3 + 3x_2+\\frac{1}{2}x_2^2 - 5ln(x_1+x_2+1)$\n",
    "    \n",
    "    $s.t.$\n",
    "    \n",
    "    $x_i \\geq 0, i=1,2$\n",
    "    \n",
    "2. State the first-order optimality conitions and solve them for the quilibrium and demand flow.\n",
    "    \n",
    "    $L(x,\\mu) = Z(x)-\\mu_1x_1-\\mu_2x2$\n",
    "    \n",
    "    $s.t.$\n",
    "    \n",
    "    $\\Delta_x L(x,\\mu)=0$\n",
    "    \n",
    "    $\\mu_1x1 = 0$\n",
    "    \n",
    "    $\\mu_2x2 = 0$\n",
    "    \n",
    "    $x_1, x_2 \\geq 0$\n",
    "    \n",
    "    $\\mu_1, \\mu_2 \\geq 0$"
   ]
  },
  {
   "cell_type": "code",
   "execution_count": 3,
   "id": "68d52f19",
   "metadata": {},
   "outputs": [],
   "source": [
    "import numpy as np\n",
    "import matplotlib.pyplot as plt\n",
    "from scipy.optimize import minimize"
   ]
  },
  {
   "cell_type": "code",
   "execution_count": 9,
   "id": "142af852",
   "metadata": {},
   "outputs": [],
   "source": [
    "obj = lambda x: x[0]+1/6*x[0]**3 + 3*x[1]+1/2*x[1]**2 - 5*np.log(x[0]+x[1]+1)\n",
    "bnds = ((0,None), (0,None))\n",
    "\n",
    "sol = minimize(obj, x0=[1.0,1.0], bounds=bnds)"
   ]
  },
  {
   "cell_type": "code",
   "execution_count": 12,
   "id": "e0f12158",
   "metadata": {},
   "outputs": [
    {
     "name": "stdout",
     "output_type": "stream",
     "text": [
      "Flow on link 1 is 1.445.\n",
      "Flow on link 2 is 0.000.\n",
      "Equilibrium travel time is 2.045.\n"
     ]
    }
   ],
   "source": [
    "print('Flow on link 1 is {:.3f}.'.format(sol.x[0]))\n",
    "print('Flow on link 2 is {:.3f}.'.format(sol.x[1]))\n",
    "print('Equilibrium travel time is {:.3f}.'.format(5/(sol.x[0]+sol.x[1]+1)))"
   ]
  },
  {
   "cell_type": "markdown",
   "id": "cfdd307b",
   "metadata": {},
   "source": [
    "### Problem 2\n",
    "\n",
    "Suppose a network is composed of only one link connecting a single O-D pair. The link performance function is $t(x)=1+x^2$ and demand function $D(t)=10-2t$.\n",
    "\n",
    "Use the excess-demand formulation to solve this elastic-demand equilibrium problem.\n",
    "\n",
    "$D(t) = 10-2t \\Longrightarrow t(x) = 5-0.5x$ and $\\bar{q} = 10$\n",
    "\n",
    "Excess-Demand Function: $W(x) = t(e)=t(10-x) = 0.5x$\n",
    "\n",
    "$min \\space Z(x,e) = \\int_{0}^{x} 1+\\tilde{\\omega}^2d\\tilde{\\omega} + \\int_{0}^{e} 0.5\\tilde{\\omega}d\\tilde{\\omega}$\n",
    "$\\Longrightarrow$\n",
    "$min \\space Z(x,e) = x+\\frac{1}{3}x^3+\\frac{1}{4}e^2$\n",
    "$\\Longrightarrow$\n",
    "$min \\space Z(x) = x + \\frac{1}{4}(10-x)^2+\\frac{1}{3}x^3$, where $x\\geq0$"
   ]
  },
  {
   "cell_type": "code",
   "execution_count": 26,
   "id": "b21b3a65",
   "metadata": {},
   "outputs": [
    {
     "data": {
      "text/plain": [
       "      fun: 20.55159631625619\n",
       " hess_inv: array([[1]])\n",
       "      jac: array([0.])\n",
       "  message: 'Optimization terminated successfully.'\n",
       "     nfev: 6\n",
       "      nit: 1\n",
       "     njev: 3\n",
       "   status: 0\n",
       "  success: True\n",
       "        x: array([1.76556444])"
      ]
     },
     "execution_count": 26,
     "metadata": {},
     "output_type": "execute_result"
    }
   ],
   "source": [
    "obj = lambda x: x+1/4*(10-x)**2+1/3*x**3\n",
    "sol = minimize(obj, x0=2)\n",
    "sol"
   ]
  },
  {
   "cell_type": "code",
   "execution_count": 21,
   "id": "e9723507",
   "metadata": {},
   "outputs": [
    {
     "data": {
      "text/plain": [
       "[<matplotlib.lines.Line2D at 0x7fc91806b3d0>]"
      ]
     },
     "execution_count": 21,
     "metadata": {},
     "output_type": "execute_result"
    },
    {
     "data": {
      "image/png": "[encoded data removed]",
      "text/plain": [
       "<Figure size 432x288 with 1 Axes>"
      ]
     },
     "metadata": {
      "needs_background": "light"
     },
     "output_type": "display_data"
    }
   ],
   "source": [
    "xs = np.linspace(0,10,200)\n",
    "ys = obj(xs)\n",
    "plt.plot(xs,ys)"
   ]
  },
  {
   "cell_type": "code",
   "execution_count": 29,
   "id": "2d66d802",
   "metadata": {},
   "outputs": [
    {
     "name": "stdout",
     "output_type": "stream",
     "text": [
      "Flow on the link is 1.766.\n"
     ]
    }
   ],
   "source": [
    "print('Flow on the link is {:.3f}.'.format(sol.x[0]))"
   ]
  },
  {
   "cell_type": "markdown",
   "id": "48fa4a58",
   "metadata": {},
   "source": [
    "### Problem 3\n",
    "\n",
    "Formulate the problem of equilibrium with mode split when the logit model is given by:\n",
    "\n",
    "$\\hat{q}_{rs} = \\bar{q}_{rs} \\frac{1}{1+exp(\\theta_1+\\theta_2(\\hat{u}_{rs}-u_{rs}))}$\n",
    "\n",
    "Assume that the bus mode operates on dedicated paths and doesn't experience congestion. Suggest an interpretation of the parameters of the logit function."
   ]
  },
  {
   "cell_type": "markdown",
   "id": "e898671a",
   "metadata": {},
   "source": [
    "$\\because \\space \\hat{q}_{rs} = \\bar{q}_{rs} \\frac{1}{1+exp(\\theta_1+\\theta_2(\\hat{u}_{rs}-u_{rs}))}$\n",
    "$, \\space \\therefore \\space u_{rs}(q_{rs}) = \\frac{1}{\\theta_2}[ln(\\frac{\\bar{q}_{rs}}{q_{rs}}-1)+\\theta_1]+\\hat{u}_{rs}$\n",
    "\n",
    "$W(\\hat{q}_{rs}) = u(\\bar{q}_{rs}-\\hat{q}_{rs}) = \\frac{1}{\\theta_2}[ln(\\frac{\\hat{q}_{rs}}{\\bar{q}_{rs}-\\hat{q}_{rs}})+\\theta_1]+\\hat{u}_{rs}$\n",
    "\n",
    "Formulation is below:\n",
    "\n",
    "$min \\space z(x,\\hat{q}) = \\Sigma_{a} \\int_{0}^{x_a} t_a(\\omega)d\\omega + \\Sigma_{rs} \\int_{0}^{\\hat{q}_{rs}} \\frac{1}{\\theta_2}[ln(\\frac{\\omega}{\\bar{q}_{rs}-\\omega})+\\theta_1]+\\hat{u}_{rs} d\\omega$\n",
    "\n",
    "$s.t.$\n",
    "\n",
    "$\\Sigma_{k} f_k^{rs} + \\hat{q}_{rs} = \\bar{q}_{rs}, \\forall r,s$\n",
    "\n",
    "$f_k^{rs} \\geq 0, \\forall k,r,s$\n",
    "\n",
    "$x_a = \\Sigma_{rs} \\Sigma_{k} f_k^{rs}\\delta_{ak}^{rs}, a\\in A$"
   ]
  },
  {
   "cell_type": "markdown",
   "id": "69c57933",
   "metadata": {},
   "source": [
    "Now, we can interpret the meaning of $\\theta_1$ and $\\theta_2$.\n",
    "\n",
    "$\\frac{\\partial{\\hat{q}_{rs}}}{\\partial{\\theta_1}} = -\\hat{q}_{rs}\\frac{exp(\\theta_1+\\theta_2(\\hat{u}_{rs}-u_{rs}))}{(1+exp(\\theta_1+\\theta_2(\\hat{u}_{rs}-u_{rs})))^2} < 0$\n",
    "\n",
    "From the above function, we can see the demand of bus service is monnotonically decreasing in resepct of $\\theta_1$, which is reasonable. $\\theta_1$ is the difference of utility function when the travel time is neglected. One of examples is the price of buses. The demand of buses decreases when the price grows up.\n",
    "\n",
    "We can regard $\\theta_2$ as the sensitivity to the travel time difference. The travel time difference is determined by $u_{rs}$ since the travel time on dedicared bus lanes should be a constant. The demand of buses increases while $u_{rs}$ is growing up."
   ]
  }
 ],
 "metadata": {
  "kernelspec": {
   "display_name": "Python 3 (ipykernel)",
   "language": "python",
   "name": "python3"
  },
  "language_info": {
   "codemirror_mode": {
    "name": "ipython",
    "version": 3
   },
   "file_extension": ".py",
   "mimetype": "text/x-python",
   "name": "python",
   "nbconvert_exporter": "python",
   "pygments_lexer": "ipython3",
   "version": "3.9.12"
  }
 },
 "nbformat": 4,
 "nbformat_minor": 5
}
